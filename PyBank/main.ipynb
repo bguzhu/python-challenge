{
 "cells": [
  {
   "cell_type": "code",
   "execution_count": 37,
   "id": "ebf5cb68",
   "metadata": {},
   "outputs": [
    {
     "name": "stdout",
     "output_type": "stream",
     "text": [
      "Financial analysis\n",
      "----------------------------\n",
      "Total months: 86\n",
      "Total: $22564198\n",
      "Average Change: $-8311.11\n",
      "Greatest Increase in Profits: Aug-16 ($1862002)\n",
      "Greatest Decrease in Profits: Feb-14 ($-1825558)\n"
     ]
    }
   ],
   "source": [
    "#Needed for reading or writing to csv\n",
    "import os\n",
    "import csv\n",
    "\n",
    "#Define variable to go through data file under Resources folder\n",
    "budget_csv = os.path.join('.', 'Resources', 'budget_data.csv')\n",
    "\n",
    "#Define variable to create a file with the final results\n",
    "analysis_results = os.path.join('.', 'budget_analysis_results.txt')\n",
    "\n",
    "total_months = 0\n",
    "total = 0\n",
    "average_change_list = []\n",
    "\n",
    "greatest_increase = [\"\", 0]\n",
    "greatest_decrease = [\"\", 999999999999999999]\n",
    "\n",
    "#Include the first month in the month count\n",
    "total_months += 1\n",
    "\n",
    "#Read the budget CSV file\n",
    "with open(budget_csv, \"r\") as csvfile:\n",
    "    csvreader = csv.reader(csvfile,delimiter=',')\n",
    "    \n",
    "    #Looks at the first row and creates it as a list\n",
    "    header = next(csvreader)\n",
    "    #Row that includes date and profits/losses \n",
    "    first_data = next(csvreader)\n",
    "    \n",
    "    total += int(first_data[1])\n",
    "    previous_average = int(first_data[1])\n",
    "    \n",
    "    #Look at every row not including the first_data row\n",
    "    for row in csvreader:\n",
    "        total_months += 1\n",
    "        total += int(row[1])\n",
    "        average_change = int(row[1]) - previous_average\n",
    "        previous_average = int(row[1])\n",
    "        average_change_list.append(average_change)\n",
    "     \n",
    "        if (average_change > greatest_increase[1]):\n",
    "            greatest_increase[0] = row[0]\n",
    "            greatest_increase[1] = average_change\n",
    "            \n",
    "        if(average_change < greatest_decrease[1]):\n",
    "            greatest_decrease[0] = row[0]\n",
    "            greatest_decrease[1] = average_change\n",
    "  \n",
    "    average_changes = sum(average_change_list) / len(average_change_list)\n",
    "    \n",
    "results =(  \n",
    "    f\"Financial analysis\\n\"\n",
    "    f\"----------------------------\\n\"\n",
    "    f\"Total months: {total_months}\\n\"\n",
    "    f\"Total: ${total}\\n\"\n",
    "    f\"Average Change: ${average_changes:.2f}\\n\"\n",
    "    f\"Greatest Increase in Profits: {greatest_increase[0]} (${greatest_increase[1]})\\n\"\n",
    "    f\"Greatest Decrease in Profits: {greatest_decrease[0]} (${greatest_decrease[1]})\"\n",
    ")\n",
    "print(results)\n",
    "\n",
    "#Writes the results to a file budget_analysis_results.txt\n",
    "with open(analysis_results, \"w\") as resultsfile:\n",
    "    resultsfile.write(results)"
   ]
  },
  {
   "cell_type": "code",
   "execution_count": null,
   "id": "8540f993",
   "metadata": {},
   "outputs": [],
   "source": []
  },
  {
   "cell_type": "code",
   "execution_count": null,
   "id": "bd9562da",
   "metadata": {},
   "outputs": [],
   "source": []
  }
 ],
 "metadata": {
  "kernelspec": {
   "display_name": "Python 3 (ipykernel)",
   "language": "python",
   "name": "python3"
  },
  "language_info": {
   "codemirror_mode": {
    "name": "ipython",
    "version": 3
   },
   "file_extension": ".py",
   "mimetype": "text/x-python",
   "name": "python",
   "nbconvert_exporter": "python",
   "pygments_lexer": "ipython3",
   "version": "3.11.4"
  }
 },
 "nbformat": 4,
 "nbformat_minor": 5
}
